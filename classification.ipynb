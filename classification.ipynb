{
 "cells": [
  {
   "cell_type": "code",
   "execution_count": 4,
   "metadata": {},
   "outputs": [
    {
     "name": "stdout",
     "output_type": "stream",
     "text": [
      "hello\n"
     ]
    }
   ],
   "source": [
    "print(\"hello\")"
   ]
  },
  {
   "cell_type": "code",
   "execution_count": 1,
   "metadata": {},
   "outputs": [],
   "source": [
    "import os\n",
    "import cv2\n",
    "import numpy as np\n",
    "\n",
    "from tqdm import tqdm\n",
    "from sklearn.preprocessing import LabelEncoder\n",
    "from sklearn.model_selection import train_test_split\n",
    "from sklearn.metrics import classification_report, accuracy_score, confusion_matrix\n",
    "from tensorflow.keras.applications import MobileNetV2\n",
    "from tensorflow.keras.applications.mobilenet_v2 import preprocess_input\n",
    "from tensorflow.keras.preprocessing.image import img_to_array\n",
    "from xgboost import XGBClassifier\n"
   ]
  },
  {
   "cell_type": "code",
   "execution_count": 4,
   "metadata": {},
   "outputs": [],
   "source": [
    "from skimage.feature import graycomatrix, graycoprops\n",
    "\n",
    "def preprocess_image(img_path):\n",
    "    img = cv2.imread(img_path)\n",
    "    img = cv2.resize(img, (256, 256))\n",
    "    blurred = cv2.GaussianBlur(img, (5, 5), 0)\n",
    "    return img, blurred\n",
    "\n",
    "def segment_disease_region(image):\n",
    "    gray = cv2.cvtColor(image, cv2.COLOR_BGR2GRAY)\n",
    "    _, thresh = cv2.threshold(gray, 0, 255, cv2.THRESH_BINARY_INV + cv2.THRESH_OTSU)\n",
    "    return thresh\n",
    "\n",
    "def extract_color_features(image):\n",
    "    mean = np.mean(image, axis=(0, 1))\n",
    "    std = np.std(image, axis=(0, 1))\n",
    "    return mean.tolist() + std.tolist()\n",
    "\n",
    "def extract_texture_features(gray_img):\n",
    "    glcm = graycomatrix(gray_img, [1], [0], symmetric=True, normed=True)\n",
    "    return [\n",
    "        graycoprops(glcm, 'contrast')[0, 0],\n",
    "        graycoprops(glcm, 'correlation')[0, 0],\n",
    "        graycoprops(glcm, 'energy')[0, 0],\n",
    "        graycoprops(glcm, 'homogeneity')[0, 0]\n",
    "    ]\n",
    "\n",
    "def extract_shape_features(binary_img):\n",
    "    contours, _ = cv2.findContours(binary_img, cv2.RETR_TREE, cv2.CHAIN_APPROX_SIMPLE)\n",
    "    if contours:\n",
    "        cnt = max(contours, key=cv2.contourArea)\n",
    "        area = cv2.contourArea(cnt)\n",
    "        perimeter = cv2.arcLength(cnt, True)\n",
    "    else:\n",
    "        area, perimeter = 0, 0\n",
    "    return [area, perimeter]\n"
   ]
  },
  {
   "cell_type": "code",
   "execution_count": 5,
   "metadata": {},
   "outputs": [],
   "source": [
    "mobilenet = MobileNetV2(weights=\"imagenet\", include_top=False, pooling=\"avg\", input_shape=(224, 224, 3))\n"
   ]
  },
  {
   "cell_type": "code",
   "execution_count": 6,
   "metadata": {},
   "outputs": [
    {
     "name": "stderr",
     "output_type": "stream",
     "text": [
      "Processing Apple___Apple_scab: 100%|██████████| 630/630 [01:30<00:00,  6.93it/s]\n",
      "Processing Apple___Black_rot: 100%|██████████| 621/621 [01:28<00:00,  6.99it/s]\n",
      "Processing Apple___Cedar_apple_rust: 100%|██████████| 275/275 [00:38<00:00,  7.23it/s]\n",
      "Processing Apple___healthy: 100%|██████████| 1645/1645 [07:01<00:00,  3.90it/s]\n",
      "Processing Blueberry___healthy: 100%|██████████| 1502/1502 [04:45<00:00,  5.26it/s]\n",
      "Processing Cherry_(including_sour)___healthy: 100%|██████████| 854/854 [02:22<00:00,  5.98it/s]\n",
      "Processing Cherry_(including_sour)___Powdery_mildew: 100%|██████████| 1052/1052 [02:33<00:00,  6.87it/s]\n",
      "Processing Corn_(maize)___Cercospora_leaf_spot Gray_leaf_spot: 100%|██████████| 513/513 [01:18<00:00,  6.51it/s]\n",
      "Processing Corn_(maize)___Common_rust_: 100%|██████████| 1192/1192 [02:56<00:00,  6.75it/s]\n",
      "Processing Corn_(maize)___healthy: 100%|██████████| 1162/1162 [02:56<00:00,  6.59it/s]\n",
      "Processing Corn_(maize)___Northern_Leaf_Blight: 100%|██████████| 985/985 [03:57<00:00,  4.14it/s]\n",
      "Processing Grape___Black_rot: 100%|██████████| 1180/1180 [02:53<00:00,  6.79it/s]\n",
      "Processing Grape___Esca_(Black_Measles): 100%|██████████| 1384/1384 [03:31<00:00,  6.55it/s]\n",
      "Processing Grape___healthy: 100%|██████████| 423/423 [01:02<00:00,  6.81it/s]\n",
      "Processing Grape___Leaf_blight_(Isariopsis_Leaf_Spot): 100%|██████████| 1076/1076 [02:34<00:00,  6.98it/s]\n",
      "Processing Orange___Haunglongbing_(Citrus_greening): 100%|██████████| 5507/5507 [1:07:04<00:00,  1.37it/s]     \n",
      "Processing Peach___Bacterial_spot: 100%|██████████| 2297/2297 [03:25<00:00, 11.18it/s]\n",
      "Processing Peach___healthy: 100%|██████████| 360/360 [00:36<00:00,  9.88it/s]\n",
      "Processing Pepper,_bell___Bacterial_spot: 100%|██████████| 997/997 [01:43<00:00,  9.64it/s]\n",
      "Processing Pepper,_bell___healthy: 100%|██████████| 1478/1478 [02:36<00:00,  9.43it/s]\n",
      "Processing Potato___Early_blight: 100%|██████████| 1000/1000 [02:48<00:00,  5.95it/s]\n",
      "Processing Potato___healthy: 100%|██████████| 152/152 [00:27<00:00,  5.52it/s]\n",
      "Processing Potato___Late_blight: 100%|██████████| 1000/1000 [02:03<00:00,  8.10it/s]\n",
      "Processing Raspberry___healthy: 100%|██████████| 371/371 [00:29<00:00, 12.73it/s]\n",
      "Processing Soybean___healthy: 100%|██████████| 5090/5090 [08:02<00:00, 10.55it/s]\n",
      "Processing Squash___Powdery_mildew: 100%|██████████| 1835/1835 [03:05<00:00,  9.92it/s]\n",
      "Processing Strawberry___healthy: 100%|██████████| 456/456 [00:50<00:00,  8.97it/s]\n",
      "Processing Strawberry___Leaf_scorch: 100%|██████████| 1109/1109 [02:07<00:00,  8.70it/s]\n",
      "Processing Tomato___Bacterial_spot: 100%|██████████| 2127/2127 [03:55<00:00,  9.04it/s]\n",
      "Processing Tomato___Early_blight: 100%|██████████| 1000/1000 [01:51<00:00,  8.96it/s]\n",
      "Processing Tomato___healthy: 100%|██████████| 1591/1591 [02:54<00:00,  9.12it/s]\n",
      "Processing Tomato___Late_blight: 100%|██████████| 1909/1909 [03:34<00:00,  8.89it/s]\n",
      "Processing Tomato___Leaf_Mold: 100%|██████████| 952/952 [01:46<00:00,  8.92it/s]\n",
      "Processing Tomato___Septoria_leaf_spot: 100%|██████████| 1771/1771 [09:12<00:00,  3.21it/s]   \n",
      "Processing Tomato___Spider_mites Two-spotted_spider_mite: 100%|██████████| 1676/1676 [02:14<00:00, 12.47it/s]\n",
      "Processing Tomato___Target_Spot: 100%|██████████| 1404/1404 [01:54<00:00, 12.22it/s]\n",
      "Processing Tomato___Tomato_mosaic_virus: 100%|██████████| 373/373 [00:30<00:00, 12.13it/s]\n",
      "Processing Tomato___Tomato_Yellow_Leaf_Curl_Virus: 100%|██████████| 5357/5357 [07:14<00:00, 12.33it/s]\n"
     ]
    }
   ],
   "source": [
    "data_dir = \"./Dataset\"\n",
    "selected_classes = []\n",
    "all_features = []\n",
    "labels = []\n",
    "for label in os.listdir(data_dir):\n",
    "    if selected_classes and label not in selected_classes:\n",
    "        continue\n",
    "\n",
    "    class_dir = os.path.join(data_dir, label)\n",
    "    count = 0\n",
    "\n",
    "    for fname in tqdm(os.listdir(class_dir), desc=f'Processing {label}'):\n",
    "        \n",
    "        fpath = os.path.join(class_dir, fname)\n",
    "\n",
    "        try:\n",
    "            orig, preprocessed = preprocess_image(fpath)\n",
    "            gray = cv2.cvtColor(preprocessed, cv2.COLOR_BGR2GRAY)\n",
    "            segment = segment_disease_region(preprocessed)\n",
    "\n",
    "            # Handcrafted features\n",
    "            color = extract_color_features(preprocessed)\n",
    "            texture = extract_texture_features(gray)\n",
    "            shape = extract_shape_features(segment)\n",
    "\n",
    "            handcrafted_features = color + texture + shape\n",
    "\n",
    "            # CNN features\n",
    "            cnn_img = cv2.resize(orig, (224, 224))\n",
    "            cnn_img = img_to_array(cnn_img)\n",
    "            cnn_img = preprocess_input(cnn_img)\n",
    "            cnn_features = mobilenet.predict(np.expand_dims(cnn_img, axis=0), verbose=0)[0]\n",
    "\n",
    "            # Combine both\n",
    "            combined = np.concatenate([handcrafted_features, cnn_features])\n",
    "            all_features.append(combined)\n",
    "            labels.append(label)\n",
    "            count += 1\n",
    "\n",
    "        except Exception as e:\n",
    "            continue\n"
   ]
  },
  {
   "cell_type": "code",
   "execution_count": 8,
   "metadata": {},
   "outputs": [],
   "source": [
    "label_encoder = LabelEncoder()\n",
    "y_encoded = label_encoder.fit_transform(labels)\n",
    "\n",
    "X = np.array(all_features)\n",
    "y = np.array(y_encoded)\n",
    "\n",
    "X_train, X_test, y_train, y_test = train_test_split(X, y, test_size=0.2, stratify=y, random_state=42)\n"
   ]
  },
  {
   "cell_type": "code",
   "execution_count": 11,
   "metadata": {},
   "outputs": [
    {
     "name": "stdout",
     "output_type": "stream",
     "text": [
      "Training round 1 with learning rate = 0.30000\n"
     ]
    },
    {
     "name": "stderr",
     "output_type": "stream",
     "text": [
      "c:\\Users\\Nidhi Goel\\Desktop\\plant_disease\\venv\\Lib\\site-packages\\xgboost\\training.py:183: UserWarning: [14:41:32] WARNING: C:\\actions-runner\\_work\\xgboost\\xgboost\\src\\learner.cc:738: \n",
      "Parameters: { \"use_label_encoder\" } are not used.\n",
      "\n",
      "  bst.update(dtrain, iteration=i, fobj=obj)\n"
     ]
    },
    {
     "name": "stdout",
     "output_type": "stream",
     "text": [
      "Training round 2 with learning rate = 0.28500\n"
     ]
    },
    {
     "name": "stderr",
     "output_type": "stream",
     "text": [
      "c:\\Users\\Nidhi Goel\\Desktop\\plant_disease\\venv\\Lib\\site-packages\\xgboost\\core.py:1853: UserWarning: [18:20:30] WARNING: C:\\actions-runner\\_work\\xgboost\\xgboost\\src\\learner.cc:738: \n",
      "Parameters: { \"use_label_encoder\" } are not used.\n",
      "\n",
      "  state = model_file.__getstate__()\n",
      "c:\\Users\\Nidhi Goel\\Desktop\\plant_disease\\venv\\Lib\\site-packages\\xgboost\\training.py:183: UserWarning: [18:20:30] WARNING: C:\\actions-runner\\_work\\xgboost\\xgboost\\src\\learner.cc:738: \n",
      "Parameters: { \"use_label_encoder\" } are not used.\n",
      "\n",
      "  bst.update(dtrain, iteration=i, fobj=obj)\n"
     ]
    },
    {
     "name": "stdout",
     "output_type": "stream",
     "text": [
      "Training round 3 with learning rate = 0.27075\n"
     ]
    },
    {
     "name": "stderr",
     "output_type": "stream",
     "text": [
      "c:\\Users\\Nidhi Goel\\Desktop\\plant_disease\\venv\\Lib\\site-packages\\xgboost\\core.py:1853: UserWarning: [18:26:46] WARNING: C:\\actions-runner\\_work\\xgboost\\xgboost\\src\\learner.cc:738: \n",
      "Parameters: { \"use_label_encoder\" } are not used.\n",
      "\n",
      "  state = model_file.__getstate__()\n",
      "c:\\Users\\Nidhi Goel\\Desktop\\plant_disease\\venv\\Lib\\site-packages\\xgboost\\training.py:183: UserWarning: [18:26:47] WARNING: C:\\actions-runner\\_work\\xgboost\\xgboost\\src\\learner.cc:738: \n",
      "Parameters: { \"use_label_encoder\" } are not used.\n",
      "\n",
      "  bst.update(dtrain, iteration=i, fobj=obj)\n"
     ]
    },
    {
     "name": "stdout",
     "output_type": "stream",
     "text": [
      "Training round 4 with learning rate = 0.25721\n"
     ]
    },
    {
     "name": "stderr",
     "output_type": "stream",
     "text": [
      "c:\\Users\\Nidhi Goel\\Desktop\\plant_disease\\venv\\Lib\\site-packages\\xgboost\\core.py:1853: UserWarning: [18:31:34] WARNING: C:\\actions-runner\\_work\\xgboost\\xgboost\\src\\learner.cc:738: \n",
      "Parameters: { \"use_label_encoder\" } are not used.\n",
      "\n",
      "  state = model_file.__getstate__()\n",
      "c:\\Users\\Nidhi Goel\\Desktop\\plant_disease\\venv\\Lib\\site-packages\\xgboost\\training.py:183: UserWarning: [18:31:35] WARNING: C:\\actions-runner\\_work\\xgboost\\xgboost\\src\\learner.cc:738: \n",
      "Parameters: { \"use_label_encoder\" } are not used.\n",
      "\n",
      "  bst.update(dtrain, iteration=i, fobj=obj)\n"
     ]
    },
    {
     "name": "stdout",
     "output_type": "stream",
     "text": [
      "Training round 5 with learning rate = 0.24435\n"
     ]
    },
    {
     "name": "stderr",
     "output_type": "stream",
     "text": [
      "c:\\Users\\Nidhi Goel\\Desktop\\plant_disease\\venv\\Lib\\site-packages\\xgboost\\core.py:1853: UserWarning: [18:36:02] WARNING: C:\\actions-runner\\_work\\xgboost\\xgboost\\src\\learner.cc:738: \n",
      "Parameters: { \"use_label_encoder\" } are not used.\n",
      "\n",
      "  state = model_file.__getstate__()\n",
      "c:\\Users\\Nidhi Goel\\Desktop\\plant_disease\\venv\\Lib\\site-packages\\xgboost\\training.py:183: UserWarning: [18:36:03] WARNING: C:\\actions-runner\\_work\\xgboost\\xgboost\\src\\learner.cc:738: \n",
      "Parameters: { \"use_label_encoder\" } are not used.\n",
      "\n",
      "  bst.update(dtrain, iteration=i, fobj=obj)\n"
     ]
    },
    {
     "name": "stdout",
     "output_type": "stream",
     "text": [
      "Training round 6 with learning rate = 0.23213\n"
     ]
    },
    {
     "name": "stderr",
     "output_type": "stream",
     "text": [
      "c:\\Users\\Nidhi Goel\\Desktop\\plant_disease\\venv\\Lib\\site-packages\\xgboost\\core.py:1853: UserWarning: [18:40:23] WARNING: C:\\actions-runner\\_work\\xgboost\\xgboost\\src\\learner.cc:738: \n",
      "Parameters: { \"use_label_encoder\" } are not used.\n",
      "\n",
      "  state = model_file.__getstate__()\n",
      "c:\\Users\\Nidhi Goel\\Desktop\\plant_disease\\venv\\Lib\\site-packages\\xgboost\\training.py:183: UserWarning: [18:40:25] WARNING: C:\\actions-runner\\_work\\xgboost\\xgboost\\src\\learner.cc:738: \n",
      "Parameters: { \"use_label_encoder\" } are not used.\n",
      "\n",
      "  bst.update(dtrain, iteration=i, fobj=obj)\n"
     ]
    },
    {
     "name": "stdout",
     "output_type": "stream",
     "text": [
      "Training round 7 with learning rate = 0.22053\n"
     ]
    },
    {
     "name": "stderr",
     "output_type": "stream",
     "text": [
      "c:\\Users\\Nidhi Goel\\Desktop\\plant_disease\\venv\\Lib\\site-packages\\xgboost\\core.py:1853: UserWarning: [18:44:22] WARNING: C:\\actions-runner\\_work\\xgboost\\xgboost\\src\\learner.cc:738: \n",
      "Parameters: { \"use_label_encoder\" } are not used.\n",
      "\n",
      "  state = model_file.__getstate__()\n",
      "c:\\Users\\Nidhi Goel\\Desktop\\plant_disease\\venv\\Lib\\site-packages\\xgboost\\training.py:183: UserWarning: [18:44:24] WARNING: C:\\actions-runner\\_work\\xgboost\\xgboost\\src\\learner.cc:738: \n",
      "Parameters: { \"use_label_encoder\" } are not used.\n",
      "\n",
      "  bst.update(dtrain, iteration=i, fobj=obj)\n"
     ]
    },
    {
     "name": "stdout",
     "output_type": "stream",
     "text": [
      "Training round 8 with learning rate = 0.20950\n"
     ]
    },
    {
     "name": "stderr",
     "output_type": "stream",
     "text": [
      "c:\\Users\\Nidhi Goel\\Desktop\\plant_disease\\venv\\Lib\\site-packages\\xgboost\\core.py:1853: UserWarning: [18:48:44] WARNING: C:\\actions-runner\\_work\\xgboost\\xgboost\\src\\learner.cc:738: \n",
      "Parameters: { \"use_label_encoder\" } are not used.\n",
      "\n",
      "  state = model_file.__getstate__()\n",
      "c:\\Users\\Nidhi Goel\\Desktop\\plant_disease\\venv\\Lib\\site-packages\\xgboost\\training.py:183: UserWarning: [18:48:47] WARNING: C:\\actions-runner\\_work\\xgboost\\xgboost\\src\\learner.cc:738: \n",
      "Parameters: { \"use_label_encoder\" } are not used.\n",
      "\n",
      "  bst.update(dtrain, iteration=i, fobj=obj)\n"
     ]
    },
    {
     "name": "stdout",
     "output_type": "stream",
     "text": [
      "Training round 9 with learning rate = 0.19903\n"
     ]
    },
    {
     "name": "stderr",
     "output_type": "stream",
     "text": [
      "c:\\Users\\Nidhi Goel\\Desktop\\plant_disease\\venv\\Lib\\site-packages\\xgboost\\core.py:1853: UserWarning: [19:01:23] WARNING: C:\\actions-runner\\_work\\xgboost\\xgboost\\src\\learner.cc:738: \n",
      "Parameters: { \"use_label_encoder\" } are not used.\n",
      "\n",
      "  state = model_file.__getstate__()\n",
      "c:\\Users\\Nidhi Goel\\Desktop\\plant_disease\\venv\\Lib\\site-packages\\xgboost\\training.py:183: UserWarning: [19:01:24] WARNING: C:\\actions-runner\\_work\\xgboost\\xgboost\\src\\learner.cc:738: \n",
      "Parameters: { \"use_label_encoder\" } are not used.\n",
      "\n",
      "  bst.update(dtrain, iteration=i, fobj=obj)\n"
     ]
    },
    {
     "name": "stdout",
     "output_type": "stream",
     "text": [
      "Training round 10 with learning rate = 0.18907\n"
     ]
    },
    {
     "name": "stderr",
     "output_type": "stream",
     "text": [
      "c:\\Users\\Nidhi Goel\\Desktop\\plant_disease\\venv\\Lib\\site-packages\\xgboost\\core.py:1853: UserWarning: [19:05:06] WARNING: C:\\actions-runner\\_work\\xgboost\\xgboost\\src\\learner.cc:738: \n",
      "Parameters: { \"use_label_encoder\" } are not used.\n",
      "\n",
      "  state = model_file.__getstate__()\n",
      "c:\\Users\\Nidhi Goel\\Desktop\\plant_disease\\venv\\Lib\\site-packages\\xgboost\\training.py:183: UserWarning: [19:05:08] WARNING: C:\\actions-runner\\_work\\xgboost\\xgboost\\src\\learner.cc:738: \n",
      "Parameters: { \"use_label_encoder\" } are not used.\n",
      "\n",
      "  bst.update(dtrain, iteration=i, fobj=obj)\n"
     ]
    }
   ],
   "source": [
    "learning_rates = [0.3 * (0.95 ** i) for i in range(10)]\n",
    "model = XGBClassifier(\n",
    "    n_estimators=100,\n",
    " #   learning_rate=0.2,\n",
    "    max_depth=5,\n",
    "    use_label_encoder=False,\n",
    "    eval_metric='mlogloss'\n",
    ")\n",
    "for i, lr in enumerate(learning_rates):\n",
    "    print(f\"Training round {i+1} with learning rate = {lr:.5f}\")\n",
    "    \n",
    "    model.set_params(learning_rate=lr)  # Update learning rate\n",
    "    \n",
    "    model.fit(\n",
    "        X_train, y_train,\n",
    "        xgb_model=model.get_booster() if i > 0 else None,  # Continue from previous model\n",
    "        eval_set=[(X_test, y_test)],\n",
    "        verbose=False\n",
    "    )\n",
    "#model.fit(X_train, y_train)\n"
   ]
  },
  {
   "cell_type": "code",
   "execution_count": 12,
   "metadata": {},
   "outputs": [
    {
     "name": "stdout",
     "output_type": "stream",
     "text": [
      "Accuracy: 0.9457742588841834\n",
      "\n",
      "Classification Report:\n",
      "                                                     precision    recall  f1-score   support\n",
      "\n",
      "                                Apple___Apple_scab       0.91      0.90      0.91       126\n",
      "                                 Apple___Black_rot       0.92      0.94      0.93       124\n",
      "                          Apple___Cedar_apple_rust       0.94      0.80      0.86        55\n",
      "                                   Apple___healthy       0.96      0.98      0.97       329\n",
      "                               Blueberry___healthy       0.97      0.99      0.98       300\n",
      "          Cherry_(including_sour)___Powdery_mildew       0.95      0.96      0.96       210\n",
      "                 Cherry_(including_sour)___healthy       0.98      0.98      0.98       171\n",
      "Corn_(maize)___Cercospora_leaf_spot Gray_leaf_spot       0.83      0.67      0.74       103\n",
      "                       Corn_(maize)___Common_rust_       0.97      0.97      0.97       238\n",
      "               Corn_(maize)___Northern_Leaf_Blight       0.84      0.89      0.86       197\n",
      "                            Corn_(maize)___healthy       0.99      1.00      0.99       232\n",
      "                                 Grape___Black_rot       0.94      0.93      0.93       236\n",
      "                      Grape___Esca_(Black_Measles)       0.95      0.95      0.95       277\n",
      "        Grape___Leaf_blight_(Isariopsis_Leaf_Spot)       1.00      0.98      0.99       215\n",
      "                                   Grape___healthy       0.99      0.96      0.98        85\n",
      "          Orange___Haunglongbing_(Citrus_greening)       0.99      0.99      0.99      1102\n",
      "                            Peach___Bacterial_spot       0.96      0.96      0.96       460\n",
      "                                   Peach___healthy       0.95      0.79      0.86        72\n",
      "                     Pepper,_bell___Bacterial_spot       0.94      0.94      0.94       199\n",
      "                            Pepper,_bell___healthy       0.98      0.97      0.97       296\n",
      "                             Potato___Early_blight       0.97      0.98      0.98       200\n",
      "                              Potato___Late_blight       0.91      0.86      0.88       200\n",
      "                                  Potato___healthy       0.88      0.47      0.61        30\n",
      "                               Raspberry___healthy       0.97      0.93      0.95        74\n",
      "                                 Soybean___healthy       0.99      1.00      0.99      1018\n",
      "                           Squash___Powdery_mildew       0.98      0.99      0.99       367\n",
      "                          Strawberry___Leaf_scorch       0.95      0.98      0.96       222\n",
      "                              Strawberry___healthy       0.96      0.95      0.95        91\n",
      "                           Tomato___Bacterial_spot       0.91      0.94      0.92       426\n",
      "                             Tomato___Early_blight       0.80      0.74      0.77       200\n",
      "                              Tomato___Late_blight       0.88      0.88      0.88       382\n",
      "                                Tomato___Leaf_Mold       0.87      0.84      0.85       190\n",
      "                       Tomato___Septoria_leaf_spot       0.87      0.90      0.88       354\n",
      "     Tomato___Spider_mites Two-spotted_spider_mite       0.89      0.91      0.90       335\n",
      "                              Tomato___Target_Spot       0.85      0.84      0.84       281\n",
      "            Tomato___Tomato_Yellow_Leaf_Curl_Virus       0.98      0.99      0.98      1072\n",
      "                      Tomato___Tomato_mosaic_virus       0.96      0.91      0.93        75\n",
      "                                  Tomato___healthy       0.92      0.95      0.94       318\n",
      "\n",
      "                                          accuracy                           0.95     10862\n",
      "                                         macro avg       0.93      0.91      0.92     10862\n",
      "                                      weighted avg       0.95      0.95      0.95     10862\n",
      "\n",
      "\n",
      "Confusion Matrix:\n",
      " [[ 114    1    0 ...    2    0    0]\n",
      " [   1  117    0 ...    0    0    0]\n",
      " [   1    4   44 ...    0    0    0]\n",
      " ...\n",
      " [   0    0    0 ... 1057    1    0]\n",
      " [   0    0    0 ...    0   68    0]\n",
      " [   0    0    1 ...    1    0  303]]\n"
     ]
    }
   ],
   "source": [
    "y_pred = model.predict(X_test)\n",
    "y_pred_labels = label_encoder.inverse_transform(y_pred)\n",
    "y_test_labels = label_encoder.inverse_transform(y_test)\n",
    "print(\"Accuracy:\", accuracy_score(y_test_labels, y_pred_labels))\n",
    "print(\"\\nClassification Report:\\n\", classification_report(y_test_labels, y_pred_labels))\n",
    "print(\"\\nConfusion Matrix:\\n\", confusion_matrix(y_test_labels, y_pred_labels))"
   ]
  },
  {
   "cell_type": "code",
   "execution_count": 14,
   "metadata": {},
   "outputs": [
    {
     "ename": "ValueError",
     "evalue": "Classification metrics can't handle a mix of continuous-multioutput and multiclass targets",
     "output_type": "error",
     "traceback": [
      "\u001b[31m---------------------------------------------------------------------------\u001b[39m",
      "\u001b[31mValueError\u001b[39m                                Traceback (most recent call last)",
      "\u001b[36mCell\u001b[39m\u001b[36m \u001b[39m\u001b[32mIn[14]\u001b[39m\u001b[32m, line 3\u001b[39m\n\u001b[32m      1\u001b[39m \u001b[38;5;28;01mfrom\u001b[39;00m\u001b[38;5;250m \u001b[39m\u001b[34;01msklearn\u001b[39;00m\u001b[34;01m.\u001b[39;00m\u001b[34;01mmetrics\u001b[39;00m\u001b[38;5;250m \u001b[39m\u001b[38;5;28;01mimport\u001b[39;00m classification_report\n\u001b[32m----> \u001b[39m\u001b[32m3\u001b[39m report = \u001b[43mclassification_report\u001b[49m\u001b[43m(\u001b[49m\u001b[43mX_test\u001b[49m\u001b[43m,\u001b[49m\u001b[43m \u001b[49m\u001b[43my_pred\u001b[49m\u001b[43m,\u001b[49m\u001b[43m \u001b[49m\u001b[43moutput_dict\u001b[49m\u001b[43m=\u001b[49m\u001b[38;5;28;43;01mTrue\u001b[39;49;00m\u001b[43m)\u001b[49m\n",
      "\u001b[36mFile \u001b[39m\u001b[32mc:\\Users\\Nidhi Goel\\Desktop\\plant_disease\\venv\\Lib\\site-packages\\sklearn\\utils\\_param_validation.py:218\u001b[39m, in \u001b[36mvalidate_params.<locals>.decorator.<locals>.wrapper\u001b[39m\u001b[34m(*args, **kwargs)\u001b[39m\n\u001b[32m    212\u001b[39m \u001b[38;5;28;01mtry\u001b[39;00m:\n\u001b[32m    213\u001b[39m     \u001b[38;5;28;01mwith\u001b[39;00m config_context(\n\u001b[32m    214\u001b[39m         skip_parameter_validation=(\n\u001b[32m    215\u001b[39m             prefer_skip_nested_validation \u001b[38;5;129;01mor\u001b[39;00m global_skip_validation\n\u001b[32m    216\u001b[39m         )\n\u001b[32m    217\u001b[39m     ):\n\u001b[32m--> \u001b[39m\u001b[32m218\u001b[39m         \u001b[38;5;28;01mreturn\u001b[39;00m \u001b[43mfunc\u001b[49m\u001b[43m(\u001b[49m\u001b[43m*\u001b[49m\u001b[43margs\u001b[49m\u001b[43m,\u001b[49m\u001b[43m \u001b[49m\u001b[43m*\u001b[49m\u001b[43m*\u001b[49m\u001b[43mkwargs\u001b[49m\u001b[43m)\u001b[49m\n\u001b[32m    219\u001b[39m \u001b[38;5;28;01mexcept\u001b[39;00m InvalidParameterError \u001b[38;5;28;01mas\u001b[39;00m e:\n\u001b[32m    220\u001b[39m     \u001b[38;5;66;03m# When the function is just a wrapper around an estimator, we allow\u001b[39;00m\n\u001b[32m    221\u001b[39m     \u001b[38;5;66;03m# the function to delegate validation to the estimator, but we replace\u001b[39;00m\n\u001b[32m    222\u001b[39m     \u001b[38;5;66;03m# the name of the estimator by the name of the function in the error\u001b[39;00m\n\u001b[32m    223\u001b[39m     \u001b[38;5;66;03m# message to avoid confusion.\u001b[39;00m\n\u001b[32m    224\u001b[39m     msg = re.sub(\n\u001b[32m    225\u001b[39m         \u001b[33mr\u001b[39m\u001b[33m\"\u001b[39m\u001b[33mparameter of \u001b[39m\u001b[33m\\\u001b[39m\u001b[33mw+ must be\u001b[39m\u001b[33m\"\u001b[39m,\n\u001b[32m    226\u001b[39m         \u001b[33mf\u001b[39m\u001b[33m\"\u001b[39m\u001b[33mparameter of \u001b[39m\u001b[38;5;132;01m{\u001b[39;00mfunc.\u001b[34m__qualname__\u001b[39m\u001b[38;5;132;01m}\u001b[39;00m\u001b[33m must be\u001b[39m\u001b[33m\"\u001b[39m,\n\u001b[32m    227\u001b[39m         \u001b[38;5;28mstr\u001b[39m(e),\n\u001b[32m    228\u001b[39m     )\n",
      "\u001b[36mFile \u001b[39m\u001b[32mc:\\Users\\Nidhi Goel\\Desktop\\plant_disease\\venv\\Lib\\site-packages\\sklearn\\metrics\\_classification.py:2923\u001b[39m, in \u001b[36mclassification_report\u001b[39m\u001b[34m(y_true, y_pred, labels, target_names, sample_weight, digits, output_dict, zero_division)\u001b[39m\n\u001b[32m   2815\u001b[39m \u001b[38;5;250m\u001b[39m\u001b[33;03m\"\"\"Build a text report showing the main classification metrics.\u001b[39;00m\n\u001b[32m   2816\u001b[39m \n\u001b[32m   2817\u001b[39m \u001b[33;03mRead more in the :ref:`User Guide <classification_report>`.\u001b[39;00m\n\u001b[32m   (...)\u001b[39m\u001b[32m   2919\u001b[39m \u001b[33;03m<BLANKLINE>\u001b[39;00m\n\u001b[32m   2920\u001b[39m \u001b[33;03m\"\"\"\u001b[39;00m\n\u001b[32m   2922\u001b[39m y_true, y_pred = attach_unique(y_true, y_pred)\n\u001b[32m-> \u001b[39m\u001b[32m2923\u001b[39m y_type, y_true, y_pred = \u001b[43m_check_targets\u001b[49m\u001b[43m(\u001b[49m\u001b[43my_true\u001b[49m\u001b[43m,\u001b[49m\u001b[43m \u001b[49m\u001b[43my_pred\u001b[49m\u001b[43m)\u001b[49m\n\u001b[32m   2925\u001b[39m \u001b[38;5;28;01mif\u001b[39;00m labels \u001b[38;5;129;01mis\u001b[39;00m \u001b[38;5;28;01mNone\u001b[39;00m:\n\u001b[32m   2926\u001b[39m     labels = unique_labels(y_true, y_pred)\n",
      "\u001b[36mFile \u001b[39m\u001b[32mc:\\Users\\Nidhi Goel\\Desktop\\plant_disease\\venv\\Lib\\site-packages\\sklearn\\metrics\\_classification.py:106\u001b[39m, in \u001b[36m_check_targets\u001b[39m\u001b[34m(y_true, y_pred)\u001b[39m\n\u001b[32m    103\u001b[39m     y_type = {\u001b[33m\"\u001b[39m\u001b[33mmulticlass\u001b[39m\u001b[33m\"\u001b[39m}\n\u001b[32m    105\u001b[39m \u001b[38;5;28;01mif\u001b[39;00m \u001b[38;5;28mlen\u001b[39m(y_type) > \u001b[32m1\u001b[39m:\n\u001b[32m--> \u001b[39m\u001b[32m106\u001b[39m     \u001b[38;5;28;01mraise\u001b[39;00m \u001b[38;5;167;01mValueError\u001b[39;00m(\n\u001b[32m    107\u001b[39m         \u001b[33m\"\u001b[39m\u001b[33mClassification metrics can\u001b[39m\u001b[33m'\u001b[39m\u001b[33mt handle a mix of \u001b[39m\u001b[38;5;132;01m{0}\u001b[39;00m\u001b[33m and \u001b[39m\u001b[38;5;132;01m{1}\u001b[39;00m\u001b[33m targets\u001b[39m\u001b[33m\"\u001b[39m.format(\n\u001b[32m    108\u001b[39m             type_true, type_pred\n\u001b[32m    109\u001b[39m         )\n\u001b[32m    110\u001b[39m     )\n\u001b[32m    112\u001b[39m \u001b[38;5;66;03m# We can't have more than one value on y_type => The set is no more needed\u001b[39;00m\n\u001b[32m    113\u001b[39m y_type = y_type.pop()\n",
      "\u001b[31mValueError\u001b[39m: Classification metrics can't handle a mix of continuous-multioutput and multiclass targets"
     ]
    }
   ],
   "source": [
    "from sklearn.metrics import classification_report\n",
    "\n",
    "report = classification_report(X_test, y_pred, output_dict=True)\n"
   ]
  },
  {
   "cell_type": "code",
   "execution_count": 15,
   "metadata": {},
   "outputs": [],
   "source": [
    "import matplotlib\n"
   ]
  },
  {
   "cell_type": "code",
   "execution_count": 16,
   "metadata": {},
   "outputs": [
    {
     "name": "stdout",
     "output_type": "stream",
     "text": [
      "matplotlib is installed and working!\n"
     ]
    }
   ],
   "source": [
    "import matplotlib.pyplot as plt\n",
    "print(\"matplotlib is installed and working!\")"
   ]
  },
  {
   "cell_type": "code",
   "execution_count": 18,
   "metadata": {},
   "outputs": [
    {
     "name": "stderr",
     "output_type": "stream",
     "text": [
      "c:\\Users\\Nidhi Goel\\Desktop\\plant_disease\\venv\\Lib\\site-packages\\xgboost\\training.py:183: UserWarning: [21:17:09] WARNING: C:\\actions-runner\\_work\\xgboost\\xgboost\\src\\learner.cc:738: \n",
      "Parameters: { \"use_label_encoder\" } are not used.\n",
      "\n",
      "  bst.update(dtrain, iteration=i, fobj=obj)\n"
     ]
    },
    {
     "ename": "KeyError",
     "evalue": "'train'",
     "output_type": "error",
     "traceback": [
      "\u001b[31m---------------------------------------------------------------------------\u001b[39m",
      "\u001b[31mKeyError\u001b[39m                                  Traceback (most recent call last)",
      "\u001b[36mCell\u001b[39m\u001b[36m \u001b[39m\u001b[32mIn[18]\u001b[39m\u001b[32m, line 24\u001b[39m\n\u001b[32m     21\u001b[39m results = model.evals_result()\n\u001b[32m     23\u001b[39m \u001b[38;5;66;03m# Plot the log loss over boosting rounds\u001b[39;00m\n\u001b[32m---> \u001b[39m\u001b[32m24\u001b[39m train_loss = \u001b[43mresults\u001b[49m\u001b[43m[\u001b[49m\u001b[33;43m'\u001b[39;49m\u001b[33;43mtrain\u001b[39;49m\u001b[33;43m'\u001b[39;49m\u001b[43m]\u001b[49m[\u001b[33m'\u001b[39m\u001b[33mmlogloss\u001b[39m\u001b[33m'\u001b[39m]\n\u001b[32m     25\u001b[39m eval_loss = results[\u001b[33m'\u001b[39m\u001b[33meval\u001b[39m\u001b[33m'\u001b[39m][\u001b[33m'\u001b[39m\u001b[33mmlogloss\u001b[39m\u001b[33m'\u001b[39m]\n\u001b[32m     26\u001b[39m epochs = \u001b[38;5;28mrange\u001b[39m(\u001b[38;5;28mlen\u001b[39m(train_loss))\n",
      "\u001b[31mKeyError\u001b[39m: 'train'"
     ]
    }
   ],
   "source": [
    "import xgboost as xgb\n",
    "from xgboost import XGBClassifier\n",
    "from sklearn.datasets import load_iris\n",
    "from sklearn.model_selection import train_test_split\n",
    "from sklearn.metrics import accuracy_score\n",
    "import matplotlib.pyplot as plt\n",
    "model = XGBClassifier(\n",
    "    n_estimators=100,\n",
    "    learning_rate=0.2,\n",
    "    max_depth=5,\n",
    "    use_label_encoder=False,\n",
    "    eval_metric='mlogloss'\n",
    ")\n",
    "model.fit(\n",
    "    X_train,\n",
    "    y_train,\n",
    "    eval_set=[(X_test, y_test)],\n",
    "    verbose=False  # Set to True if you want per-epoch output\n",
    ")\n",
    "\n",
    "results = model.evals_result()\n",
    "\n",
    "# Plot the log loss over boosting rounds\n",
    "train_loss = results['train']['mlogloss']\n",
    "eval_loss = results['eval']['mlogloss']\n",
    "epochs = range(len(train_loss))\n",
    "\n",
    "# Plot the log loss over boosting rounds\n",
    "plt.figure(figsize=(8, 5))\n",
    "plt.plot(epochs, train_loss, label='Training Log Loss')\n",
    "plt.plot(epochs, eval_loss, label='Validation Log Loss')\n",
    "plt.xlabel('Boosting Rounds (Epochs)')\n",
    "plt.ylabel('Log Loss')\n",
    "plt.title('XGBoost Training and Validation Log Loss')\n",
    "plt.legend()\n",
    "plt.grid(True)\n",
    "plt.tight_layout()\n",
    "plt.show()\n"
   ]
  },
  {
   "cell_type": "code",
   "execution_count": null,
   "metadata": {},
   "outputs": [],
   "source": [
    "import pickle\n",
    "with open(\"disease_all_model.pkl\", \"rb\") as file:\n",
    "    data = pickle.load(file)\n",
    "\n",
    "print(data)"
   ]
  }
 ],
 "metadata": {
  "kernelspec": {
   "display_name": "venv",
   "language": "python",
   "name": "python3"
  },
  "language_info": {
   "codemirror_mode": {
    "name": "ipython",
    "version": 3
   },
   "file_extension": ".py",
   "mimetype": "text/x-python",
   "name": "python",
   "nbconvert_exporter": "python",
   "pygments_lexer": "ipython3",
   "version": "3.11.6"
  }
 },
 "nbformat": 4,
 "nbformat_minor": 2
}
